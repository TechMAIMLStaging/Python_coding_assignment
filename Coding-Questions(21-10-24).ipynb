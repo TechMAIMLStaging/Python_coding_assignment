{
 "cells": [
  {
   "cell_type": "markdown",
   "id": "ee556157-72a6-4479-a555-7fe6e200d05a",
   "metadata": {},
   "source": [
    "# 01.Implement a Python function to calculate the mean squared error (MSE) between two lists of predicted and actual values."
   ]
  },
  {
   "cell_type": "code",
   "execution_count": 1,
   "id": "d7a3ab39-9b1c-47f3-b30b-8554362ea9a1",
   "metadata": {},
   "outputs": [
    {
     "name": "stdout",
     "output_type": "stream",
     "text": [
      "Mean Squared Error: 5.333333333333333\n"
     ]
    }
   ],
   "source": [
    "def mean_squared_error(actual, predicted):\n",
    "    return sum((a - p) ** 2 for a, p in zip(actual, predicted)) / len(actual)\n",
    "mse_result = mean_squared_error([1, 2, 3], [5, 2, 3])\n",
    "print(\"Mean Squared Error:\", mse_result)"
   ]
  },
  {
   "cell_type": "markdown",
   "id": "d9451336-2e95-48d2-8bb4-e908dc6a0a8e",
   "metadata": {},
   "source": [
    "# 02.Write a function to generate synthetic data using the Gaussian mixture model"
   ]
  },
  {
   "cell_type": "code",
   "execution_count": 2,
   "id": "76ddb989-229b-430e-b5fc-5262a6df2f14",
   "metadata": {},
   "outputs": [
    {
     "name": "stdout",
     "output_type": "stream",
     "text": [
      "Synthetic GMM Data Shape: (99, 2)\n"
     ]
    }
   ],
   "source": [
    "import numpy as np\n",
    "\n",
    "def generate_gmm_data(n_samples, n_clusters, random_state=None):\n",
    "    np.random.seed(random_state)\n",
    "    data = []\n",
    "    for _ in range(n_clusters):\n",
    "        center = np.random.rand(2) * 10  # Random cluster center\n",
    "        points = center + np.random.randn(n_samples // n_clusters, 2)  # Generate points\n",
    "        data.append(points)\n",
    "    return np.vstack(data)\n",
    "\n",
    "gmm_data = generate_gmm_data(100, 3)\n",
    "print(\"Synthetic GMM Data Shape:\", gmm_data.shape)"
   ]
  },
  {
   "cell_type": "markdown",
   "id": "046491b2-6448-4a4a-b656-812a23196788",
   "metadata": {},
   "source": [
    "# 03.Implement a Python function to apply batch normalization to a layer's activations"
   ]
  },
  {
   "cell_type": "code",
   "execution_count": 3,
   "id": "43a8abc3-cb9c-4950-bbcd-f3e65706258c",
   "metadata": {},
   "outputs": [
    {
     "name": "stdout",
     "output_type": "stream",
     "text": [
      "Normalized Activations Shape: (5, 10)\n"
     ]
    }
   ],
   "source": [
    "def batch_normalization(activations):\n",
    "    mean = np.mean(activations, axis=0)\n",
    "    variance = np.var(activations, axis=0)\n",
    "    normalized = (activations - mean) / np.sqrt(variance + 1e-8)\n",
    "    return normalized\n",
    "\n",
    "normalized_activations = batch_normalization(np.random.rand(5, 10))\n",
    "print(\"Normalized Activations Shape:\", normalized_activations.shape)"
   ]
  },
  {
   "cell_type": "markdown",
   "id": "5db3513a-cef7-492c-83ab-6d9afc5edd06",
   "metadata": {},
   "source": [
    "# 04.Write a function to calculate the Jaccard similarity between two sets, often used in text mining and natural language processing tasks"
   ]
  },
  {
   "cell_type": "code",
   "execution_count": 4,
   "id": "a7f9eda9-b94d-4646-a896-9465929fb789",
   "metadata": {},
   "outputs": [
    {
     "name": "stdout",
     "output_type": "stream",
     "text": [
      "Jaccard Similarity: 0.5\n"
     ]
    }
   ],
   "source": [
    "def jaccard_similarity(set1, set2):\n",
    "    intersection = len(set1.intersection(set2))\n",
    "    union = len(set1.union(set2))\n",
    "    return intersection / union\n",
    "jac_sim = jaccard_similarity({1, 2, 3}, {2, 3, 4})\n",
    "print(\"Jaccard Similarity:\", jac_sim)"
   ]
  },
  {
   "cell_type": "markdown",
   "id": "0a72c50c-b12c-4917-93f8-e0f434ac2572",
   "metadata": {},
   "source": [
    "# 05.Implement the stochastic gradient descent (SGD) algorithm for training a logistic regression model"
   ]
  },
  {
   "cell_type": "code",
   "execution_count": 5,
   "id": "50b90b27-c551-44f9-8020-1be28d457be1",
   "metadata": {},
   "outputs": [
    {
     "name": "stdout",
     "output_type": "stream",
     "text": [
      "Trained Weights: [ 0.69657298 -0.33151171]\n"
     ]
    }
   ],
   "source": [
    "def logistic_regression_sgd(X, y, learning_rate=0.01, n_epochs=100):\n",
    "    weights = np.zeros(X.shape[1])\n",
    "    for _ in range(n_epochs):\n",
    "        for xi, target in zip(X, y):\n",
    "            update = learning_rate * (target - sigmoid(np.dot(xi, weights)))\n",
    "            weights += update * xi\n",
    "    return weights\n",
    "\n",
    "def sigmoid(z):\n",
    "    return 1 / (1 + np.exp(-z))\n",
    "\n",
    "X_train = np.array([[1, 2], [1, 3], [2, 2], [2, 3]])\n",
    "y_train = np.array([0, 0, 1, 1])\n",
    "weights = logistic_regression_sgd(X_train, y_train)\n",
    "print(\"Trained Weights:\", weights)"
   ]
  },
  {
   "cell_type": "markdown",
   "id": "18e27dcc-2d31-42f5-9bbf-28303c4c1dbe",
   "metadata": {},
   "source": [
    "# 06.Write a Python function to perform the backpropagation step for a simple feedforward neural network with one hidden layer."
   ]
  },
  {
   "cell_type": "code",
   "execution_count": 6,
   "id": "a5c73fef-7fe7-4d81-8644-ede9ae9697c5",
   "metadata": {},
   "outputs": [
    {
     "name": "stdout",
     "output_type": "stream",
     "text": [
      "Updated Weights: [0.26951284 0.9380862 ]\n"
     ]
    }
   ],
   "source": [
    "def backpropagation(X, y, weights, learning_rate=0.01):\n",
    "    predictions = sigmoid(np.dot(X, weights))\n",
    "    error = y - predictions\n",
    "    \n",
    "    gradient = np.dot(X.T, error * predictions * (1 - predictions))\n",
    "    weights += learning_rate * gradient\n",
    "    return weights\n",
    "\n",
    "X_train = np.array([[1, 2], [1, 3]])\n",
    "y_train = np.array([0, 1])\n",
    "weights = np.random.rand(2)\n",
    "updated_weights = backpropagation(X_train, y_train, weights)\n",
    "print(\"Updated Weights:\", updated_weights)"
   ]
  },
  {
   "cell_type": "markdown",
   "id": "725a8cdd-bc08-4faa-a205-f30794ea955c",
   "metadata": {},
   "source": [
    "# 07.Implement the decision tree algorithm from scratch in Python. Given a dataset,build a decision tree based on Gini impurity or entropy"
   ]
  },
  {
   "cell_type": "code",
   "execution_count": 7,
   "id": "950b0a08-6f6b-465e-837e-3255ebe901e0",
   "metadata": {},
   "outputs": [
    {
     "name": "stdout",
     "output_type": "stream",
     "text": [
      "Predictions: [0 1 0 1 0 1]\n"
     ]
    }
   ],
   "source": [
    "import numpy as np\n",
    "\n",
    "class DecisionTree:\n",
    "    def __init__(self, max_depth=5, min_samples_split=2):\n",
    "        self.max_depth = max_depth\n",
    "        self.min_samples_split = min_samples_split\n",
    "        self.tree = None\n",
    "\n",
    "    def fit(self, X, y):\n",
    "        self.tree = self._build_tree(X, y)\n",
    "\n",
    "    def _build_tree(self, X, y, depth=0):\n",
    "        n_samples, n_features = X.shape\n",
    "        if n_samples >= self.min_samples_split and depth < self.max_depth:\n",
    "            best_split = self._get_best_split(X, y, n_features)\n",
    "            if best_split:\n",
    "                left_subtree = self._build_tree(best_split['X_left'], best_split['y_left'], depth + 1)\n",
    "                right_subtree = self._build_tree(best_split['X_right'], best_split['y_right'], depth + 1)\n",
    "                return {'feature_index': best_split['feature_index'],\n",
    "                        'threshold': best_split['threshold'],\n",
    "                        'left': left_subtree,\n",
    "                        'right': right_subtree}\n",
    "        \n",
    "        leaf_value = self._calculate_leaf_value(y)\n",
    "        return leaf_value\n",
    "\n",
    "    def _get_best_split(self, X, y, n_features):\n",
    "        best_split = {}\n",
    "        best_gini = float('inf')\n",
    "\n",
    "        for feature_index in range(n_features):\n",
    "            feature_values = X[:, feature_index]\n",
    "            possible_thresholds = np.unique(feature_values)\n",
    "            \n",
    "            for threshold in possible_thresholds:\n",
    "                X_left, y_left, X_right, y_right = self._split(X, y, feature_index, threshold)\n",
    "                \n",
    "                if len(y_left) > 0 and len(y_right) > 0:\n",
    "                    gini = self._calculate_gini(y_left, y_right)\n",
    "                    if gini < best_gini:\n",
    "                        best_split = {'feature_index': feature_index,\n",
    "                                      'threshold': threshold,\n",
    "                                      'X_left': X_left, 'y_left': y_left,\n",
    "                                      'X_right': X_right, 'y_right': y_right}\n",
    "                        best_gini = gini\n",
    "\n",
    "        return best_split if best_gini < float('inf') else None\n",
    "\n",
    "    def _split(self, X, y, feature_index, threshold):\n",
    "        X_left = X[X[:, feature_index] <= threshold]\n",
    "        y_left = y[X[:, feature_index] <= threshold]\n",
    "        X_right = X[X[:, feature_index] > threshold]\n",
    "        y_right = y[X[:, feature_index] > threshold]\n",
    "        return X_left, y_left, X_right, y_right\n",
    "\n",
    "    def _calculate_gini(self, y_left, y_right):\n",
    "        n_left = len(y_left)\n",
    "        n_right = len(y_right)\n",
    "        n_total = n_left + n_right\n",
    "\n",
    "        gini_left = 1.0 - sum((np.sum(y_left == c) / n_left) ** 2 for c in np.unique(y_left))\n",
    "        gini_right = 1.0 - sum((np.sum(y_right == c) / n_right) ** 2 for c in np.unique(y_right))\n",
    "\n",
    "        gini = (n_left / n_total) * gini_left + (n_right / n_total) * gini_right\n",
    "        return gini\n",
    "\n",
    "    def _calculate_leaf_value(self, y):\n",
    "        return np.bincount(y).argmax()\n",
    "\n",
    "    def predict(self, X):\n",
    "        return np.array([self._predict_single_input(x, self.tree) for x in X])\n",
    "\n",
    "    def _predict_single_input(self, x, tree):\n",
    "        if isinstance(tree, dict):\n",
    "            feature_value = x[tree['feature_index']]\n",
    "            if feature_value <= tree['threshold']:\n",
    "                return self._predict_single_input(x, tree['left'])\n",
    "            else:\n",
    "                return self._predict_single_input(x, tree['right'])\n",
    "        return tree\n",
    "\n",
    "X = np.array([[2.8, 1.0], [1.2, 3.4], [3.6, 1.8], [2.5, 2.5], [1.3, 0.8], [2.0, 3.0]])\n",
    "y = np.array([0, 1, 0, 1, 0, 1])\n",
    "\n",
    "clf = DecisionTree(max_depth=3)\n",
    "clf.fit(X, y)\n",
    "\n",
    "predictions = clf.predict(X)\n",
    "print(\"Predictions:\", predictions)"
   ]
  },
  {
   "cell_type": "markdown",
   "id": "af9739ce-199a-468a-bb7b-9479c7fba79d",
   "metadata": {},
   "source": [
    "# 08.: Write a Python function to compute the F1-score given the true labels and predicted labels for a binary classification problem."
   ]
  },
  {
   "cell_type": "code",
   "execution_count": 8,
   "id": "8662d891-f9f9-4f9b-9c82-65e9fc99e05e",
   "metadata": {},
   "outputs": [
    {
     "name": "stdout",
     "output_type": "stream",
     "text": [
      "F1 Score: 0.6666666666666666\n"
     ]
    }
   ],
   "source": [
    "def f1_score(y_true, y_pred):\n",
    "    tp = sum((y_true == 1) & (y_pred == 1))\n",
    "    fp = sum((y_true == 0) & (y_pred == 1))\n",
    "    fn = sum((y_true == 1) & (y_pred == 0))\n",
    "\n",
    "    precision = tp / (tp + fp) if tp + fp > 0 else 0\n",
    "    recall = tp / (tp + fn) if tp + fn > 0 else 0\n",
    "    return 2 * (precision * recall) / (precision + recall) if precision + recall > 0 else 0\n",
    "\n",
    "f1 = f1_score(np.array([1, 0, 1]), np.array([1, 0, 0]))\n",
    "print(\"F1 Score:\", f1)"
   ]
  },
  {
   "cell_type": "markdown",
   "id": "e32e31cb-85d5-4835-8f44-cf2a858b60ac",
   "metadata": {},
   "source": [
    "# 09.Implement support vector machine (SVM) classification from scratch, including the hinge loss function and gradient-based optimization."
   ]
  },
  {
   "cell_type": "code",
   "execution_count": 9,
   "id": "f3177c00-b576-493c-9593-877c5969bcb6",
   "metadata": {},
   "outputs": [
    {
     "name": "stdout",
     "output_type": "stream",
     "text": [
      "Predictions: [ 1.  1.  1.  1. -1.  1.]\n"
     ]
    }
   ],
   "source": [
    "import numpy as np\n",
    "\n",
    "class SVM:\n",
    "    def __init__(self, learning_rate=0.001, lambda_param=0.01, n_iters=1000):\n",
    "        self.lr = learning_rate\n",
    "        self.lambda_param = lambda_param\n",
    "        self.n_iters = n_iters\n",
    "        self.w = None\n",
    "        self.b = None\n",
    "\n",
    "    def fit(self, X, y):\n",
    "        n_samples, n_features = X.shape\n",
    "        y_ = np.where(y <= 0, -1, 1)\n",
    "        self.w = np.zeros(n_features)\n",
    "        self.b = 0\n",
    "\n",
    "        for _ in range(self.n_iters):\n",
    "            for idx, x_i in enumerate(X):\n",
    "                condition = y_[idx] * (np.dot(x_i, self.w) - self.b) >= 1\n",
    "                if condition:\n",
    "                    self.w -= self.lr * (2 * self.lambda_param * self.w)\n",
    "                else:\n",
    "                    self.w -= self.lr * (2 * self.lambda_param * self.w - np.dot(x_i, y_[idx]))\n",
    "                    self.b -= self.lr * y_[idx]\n",
    "\n",
    "    def predict(self, X):\n",
    "        linear_output = np.dot(X, self.w) - self.b\n",
    "        return np.sign(linear_output)\n",
    "\n",
    "\n",
    "X = np.array([[1, 2], [2, 3], [3, 4], [4, 5], [1, 0], [0, 1]])\n",
    "y = np.array([1, 1, 1, -1, -1, -1])\n",
    "\n",
    "svm = SVM()\n",
    "svm.fit(X, y)\n",
    "predictions = svm.predict(X)\n",
    "print(\"Predictions:\", predictions)"
   ]
  },
  {
   "cell_type": "markdown",
   "id": "9810a9ba-effa-48bf-957e-a2f8fb0a17db",
   "metadata": {},
   "source": [
    "# 10.Write a Python function to compute the Pearson correlation coefficient between two sets of data."
   ]
  },
  {
   "cell_type": "code",
   "execution_count": 10,
   "id": "762f610d-c09b-49ce-8495-1cb7b8685e8b",
   "metadata": {},
   "outputs": [
    {
     "name": "stdout",
     "output_type": "stream",
     "text": [
      "Pearson Correlation Coefficient: 1.0\n"
     ]
    }
   ],
   "source": [
    "def pearson_correlation(x, y):\n",
    "    return np.corrcoef(x, y)[0, 1]\n",
    "\n",
    "corr = pearson_correlation(np.array([1, 2, 3]), np.array([1, 2, 3]))\n",
    "print(\"Pearson Correlation Coefficient:\", corr)"
   ]
  },
  {
   "cell_type": "markdown",
   "id": "3aa273df-6405-4f7b-b625-a2d22a8b4f23",
   "metadata": {},
   "source": [
    "# 11.Implement the Adagrad optimizer from scratch in Python, and use it to optimize the parameters of a simple linear regression model."
   ]
  },
  {
   "cell_type": "code",
   "execution_count": 11,
   "id": "bcfbe03a-0a62-4cfa-952d-3c0437823729",
   "metadata": {},
   "outputs": [
    {
     "name": "stdout",
     "output_type": "stream",
     "text": [
      "Updated Weights: [0.49 0.49]\n"
     ]
    }
   ],
   "source": [
    "class Adagrad:\n",
    "    def __init__(self, learning_rate=0.01):\n",
    "        self.lr = learning_rate\n",
    "        self.cache = None\n",
    "\n",
    "    def update(self, weights, gradients):\n",
    "        if self.cache is None:\n",
    "            self.cache = np.zeros_like(gradients)\n",
    "        self.cache += gradients ** 2\n",
    "        adjusted_gradients = gradients / (np.sqrt(self.cache) + 1e-8)\n",
    "        return weights - self.lr * adjusted_gradients\n",
    "\n",
    "adagrad = Adagrad()\n",
    "weights = np.array([0.5, 0.5])\n",
    "gradients = np.array([0.1, 0.2])\n",
    "updated_weights = adagrad.update(weights, gradients)\n",
    "print(\"Updated Weights:\", updated_weights)"
   ]
  },
  {
   "cell_type": "markdown",
   "id": "6ea7bcc1-24e7-4e26-b1a9-c4ca978918e1",
   "metadata": {},
   "source": [
    "# 12.Write a Python function to simulate a Markov chain. Given a transition matrix and an initial state, return the state after a certain number of transitions"
   ]
  },
  {
   "cell_type": "code",
   "execution_count": 12,
   "id": "93bd8246-4671-4dfb-8958-dd813b0efcee",
   "metadata": {},
   "outputs": [
    {
     "name": "stdout",
     "output_type": "stream",
     "text": [
      "Final State: [0.57247 0.42753]\n"
     ]
    }
   ],
   "source": [
    "def markov_chain(transition_matrix, initial_state, n_steps):\n",
    "    state = initial_state\n",
    "    for _ in range(n_steps):\n",
    "        state = np.dot(state, transition_matrix)\n",
    "    return state\n",
    "\n",
    "transition_matrix = np.array([[0.7, 0.3], [0.4, 0.6]])\n",
    "initial_state = np.array([1, 0])  # Start in state 0\n",
    "final_state = markov_chain(transition_matrix, initial_state, 5)\n",
    "print(\"Final State:\", final_state)"
   ]
  },
  {
   "cell_type": "markdown",
   "id": "9a8184ae-029f-4a98-be41-128fc179250b",
   "metadata": {},
   "source": [
    "# 13.Implement the Naive Bayes classifier from scratch for a binary classification problem using Gaussian distributions for continuous features"
   ]
  },
  {
   "cell_type": "code",
   "execution_count": 13,
   "id": "dd9abaf0-8f30-4c6b-84e8-9e7be7aa3008",
   "metadata": {},
   "outputs": [
    {
     "name": "stdout",
     "output_type": "stream",
     "text": [
      "Predictions: [0 0 1 1]\n"
     ]
    }
   ],
   "source": [
    "import numpy as np\n",
    "\n",
    "class NaiveBayes:\n",
    "    def __init__(self):\n",
    "        self.mean = {}\n",
    "        self.variance = {}\n",
    "        self.prior = {}\n",
    "\n",
    "    def fit(self, X, y):\n",
    "        self.classes = np.unique(y)\n",
    "        n_features = X.shape[1]\n",
    "\n",
    "        for cls in self.classes:\n",
    "            X_cls = X[y == cls]\n",
    "            self.mean[cls] = X_cls.mean(axis=0)\n",
    "            self.variance[cls] = X_cls.var(axis=0)\n",
    "            self.prior[cls] = len(X_cls) / len(X)\n",
    "\n",
    "    def gaussian(self, x, mean, variance):\n",
    "        exponent = np.exp(-((x - mean) ** 2) / (2 * variance))\n",
    "        return (1 / np.sqrt(2 * np.pi * variance)) * exponent\n",
    "\n",
    "    def predict(self, X):\n",
    "        predictions = []\n",
    "        for x in X:\n",
    "            posteriors = []\n",
    "            for cls in self.classes:\n",
    "                likelihood = np.prod(self.gaussian(x, self.mean[cls], self.variance[cls]))\n",
    "                posterior = likelihood * self.prior[cls]\n",
    "                posteriors.append(posterior)\n",
    "            predictions.append(self.classes[np.argmax(posteriors)])\n",
    "        return np.array(predictions)\n",
    "\n",
    "X = np.array([[1.0, 2.0], [1.5, 1.8], [5.0, 8.0], [6.0, 9.0]])\n",
    "y = np.array([0, 0, 1, 1])\n",
    "\n",
    "model = NaiveBayes()\n",
    "model.fit(X, y)\n",
    "predictions = model.predict(X)\n",
    "print(\"Predictions:\", predictions)"
   ]
  },
  {
   "cell_type": "markdown",
   "id": "e40de85f-d139-443f-a10d-a91a3418b38c",
   "metadata": {},
   "source": [
    "# 14.Write a Python function to compute the Silhouette score for clustering results,which is used to evaluate the quality of clusters."
   ]
  },
  {
   "cell_type": "code",
   "execution_count": 14,
   "id": "c6ed59ab-d3c3-4148-8ca8-d577d10d6b8b",
   "metadata": {},
   "outputs": [
    {
     "name": "stdout",
     "output_type": "stream",
     "text": [
      "Silhouette Score: 0.39712452642059576\n"
     ]
    },
    {
     "name": "stderr",
     "output_type": "stream",
     "text": [
      "C:\\Users\\chiru c\\anaconda3\\lib\\site-packages\\joblib\\externals\\loky\\backend\\context.py:136: UserWarning: Could not find the number of physical cores for the following reason:\n",
      "[WinError 2] The system cannot find the file specified\n",
      "Returning the number of logical cores instead. You can silence this warning by setting LOKY_MAX_CPU_COUNT to the number of cores you want to use.\n",
      "  warnings.warn(\n",
      "  File \"C:\\Users\\chiru c\\anaconda3\\lib\\site-packages\\joblib\\externals\\loky\\backend\\context.py\", line 257, in _count_physical_cores\n",
      "    cpu_info = subprocess.run(\n",
      "  File \"C:\\Users\\chiru c\\anaconda3\\lib\\subprocess.py\", line 505, in run\n",
      "    with Popen(*popenargs, **kwargs) as process:\n",
      "  File \"C:\\Users\\chiru c\\anaconda3\\lib\\subprocess.py\", line 951, in __init__\n",
      "    self._execute_child(args, executable, preexec_fn, close_fds,\n",
      "  File \"C:\\Users\\chiru c\\anaconda3\\lib\\subprocess.py\", line 1420, in _execute_child\n",
      "    hp, ht, pid, tid = _winapi.CreateProcess(executable, args,\n"
     ]
    }
   ],
   "source": [
    "from sklearn.cluster import KMeans\n",
    "from sklearn.metrics import silhouette_score\n",
    "import numpy as np\n",
    "\n",
    "X = np.random.rand(100, 2)\n",
    "\n",
    "n_clusters = 3\n",
    "kmeans = KMeans(n_clusters=n_clusters, random_state=42)\n",
    "cluster_labels = kmeans.fit_predict(X)  \n",
    "\n",
    "def compute_silhouette_score(X, labels):\n",
    "    return silhouette_score(X, labels)\n",
    "\n",
    "silhouette = compute_silhouette_score(X, cluster_labels)\n",
    "print(f'Silhouette Score: {silhouette}')"
   ]
  },
  {
   "cell_type": "markdown",
   "id": "637c80cc-d2e8-4e74-a3fb-ef7a57708569",
   "metadata": {},
   "source": [
    "# 15. Implement an autoencoder neural network from scratch using Python. The network should compress and reconstruct input data."
   ]
  },
  {
   "cell_type": "code",
   "execution_count": 15,
   "id": "82746546-9f1b-4963-8e73-4bc21d401545",
   "metadata": {},
   "outputs": [
    {
     "name": "stdout",
     "output_type": "stream",
     "text": [
      "Epoch 0, Loss: 0.34288256374324466\n",
      "Epoch 100, Loss: 0.21477613946689153\n",
      "Epoch 200, Loss: 0.16539916100884375\n",
      "Epoch 300, Loss: 0.1218190324582148\n",
      "Epoch 400, Loss: 0.10123914527742393\n",
      "Epoch 500, Loss: 0.09252009699960534\n",
      "Epoch 600, Loss: 0.08845706866745388\n",
      "Epoch 700, Loss: 0.086309473986895\n",
      "Epoch 800, Loss: 0.08501899944173612\n",
      "Epoch 900, Loss: 0.08413547865379838\n",
      "Original Data:\n",
      " [[0 0 0]\n",
      " [1 1 1]\n",
      " [0 1 0]\n",
      " [1 0 1]]\n",
      "Reconstructed Data:\n",
      " [[0.05947259 0.50007624 0.05850734]\n",
      " [0.96596448 0.49908665 0.96643353]\n",
      " [0.05565951 0.50804957 0.05390508]\n",
      " [0.96901429 0.49114114 0.96992969]]\n"
     ]
    }
   ],
   "source": [
    "import numpy as np\n",
    "\n",
    "class Autoencoder:\n",
    "    def __init__(self, input_dim, encoding_dim, learning_rate=0.01, epochs=1000):\n",
    "        self.input_dim = input_dim\n",
    "        self.encoding_dim = encoding_dim\n",
    "        self.learning_rate = learning_rate\n",
    "        self.epochs = epochs\n",
    "\n",
    "        self.weights_encoder = np.random.rand(self.input_dim, self.encoding_dim)\n",
    "        self.bias_encoder = np.random.rand(self.encoding_dim)\n",
    "\n",
    "        self.weights_decoder = np.random.rand(self.encoding_dim, self.input_dim)\n",
    "        self.bias_decoder = np.random.rand(self.input_dim)\n",
    "\n",
    "    def encode(self, X):\n",
    "        return self.sigmoid(np.dot(X, self.weights_encoder) + self.bias_encoder)\n",
    "\n",
    "    def decode(self, encoded):\n",
    "        return self.sigmoid(np.dot(encoded, self.weights_decoder) + self.bias_decoder)\n",
    "\n",
    "    def fit(self, X):\n",
    "        for epoch in range(self.epochs):\n",
    "            # Forward pass\n",
    "            encoded = self.encode(X)\n",
    "            reconstructed = self.decode(encoded)\n",
    "\n",
    "            # Compute loss (Mean Squared Error)\n",
    "            loss = np.mean((X - reconstructed) ** 2)\n",
    "\n",
    "            # Backward pass (Gradient Descent)\n",
    "            decoder_loss = reconstructed - X\n",
    "            decoder_grad = np.dot(encoded.T, decoder_loss) / X.shape[0]\n",
    "            self.weights_decoder -= self.learning_rate * decoder_grad\n",
    "            self.bias_decoder -= self.learning_rate * np.mean(decoder_loss, axis=0)\n",
    "\n",
    "            encoder_loss = np.dot(decoder_loss, self.weights_decoder.T) * self.sigmoid_derivative(encoded)\n",
    "            encoder_grad = np.dot(X.T, encoder_loss) / X.shape[0]\n",
    "            self.weights_encoder -= self.learning_rate * encoder_grad\n",
    "            self.bias_encoder -= self.learning_rate * np.mean(encoder_loss, axis=0)\n",
    "\n",
    "            if epoch % 100 == 0:\n",
    "                print(f'Epoch {epoch}, Loss: {loss}')\n",
    "\n",
    "    def predict(self, X):\n",
    "        encoded = self.encode(X)\n",
    "        reconstructed = self.decode(encoded)\n",
    "        return reconstructed\n",
    "\n",
    "    def sigmoid(self, x):\n",
    "        return 1 / (1 + np.exp(-x))\n",
    "\n",
    "    def sigmoid_derivative(self, x):\n",
    "        return x * (1 - x)\n",
    "\n",
    "X = np.array([[0, 0, 0], [1, 1, 1], [0, 1, 0], [1, 0, 1]])\n",
    "autoencoder = Autoencoder(input_dim=3, encoding_dim=2, learning_rate=0.1, epochs=1000)\n",
    "autoencoder.fit(X)\n",
    "\n",
    "reconstructed = autoencoder.predict(X)\n",
    "print(\"Original Data:\\n\", X)\n",
    "print(\"Reconstructed Data:\\n\", reconstructed)"
   ]
  },
  {
   "cell_type": "markdown",
   "id": "0b9f16ab-5523-45bc-920e-dcec3777e7e0",
   "metadata": {},
   "source": [
    "# 16.Write a Python function to perform sentiment analysis on text data by implementing a simple bag-of-words model combined with logistic regression."
   ]
  },
  {
   "cell_type": "code",
   "execution_count": 16,
   "id": "0ff42fbb-2326-4aeb-8c43-0349d4a94d8f",
   "metadata": {},
   "outputs": [
    {
     "name": "stdout",
     "output_type": "stream",
     "text": [
      "Text: 'This is the worst experience ever.' - Sentiment: Negative\n",
      "Text: 'I enjoy this product.' - Sentiment: Positive\n"
     ]
    }
   ],
   "source": [
    "from sklearn.feature_extraction.text import CountVectorizer\n",
    "from sklearn.linear_model import LogisticRegression\n",
    "from sklearn.pipeline import make_pipeline\n",
    "\n",
    "def sentiment_analysis(texts, labels):\n",
    "    model = make_pipeline(CountVectorizer(), LogisticRegression())\n",
    "   \n",
    "    model.fit(texts, labels)\n",
    "    \n",
    "    return model\n",
    "\n",
    "def predict_sentiment(model, new_texts):\n",
    "    predictions = model.predict(new_texts)\n",
    "    return predictions\n",
    "\n",
    "if __name__ == \"__main__\":\n",
    "    texts = [\"I love this!\", \"I hate this!\", \"This is amazing!\", \"I dislike this!\"]\n",
    "    labels = [1, 0, 1, 0] \n",
    "    model = sentiment_analysis(texts, labels)\n",
    "\n",
    "    new_texts = [\"This is the worst experience ever.\", \"I enjoy this product.\"]\n",
    "    predictions = predict_sentiment(model, new_texts)\n",
    "    \n",
    "    for text, prediction in zip(new_texts, predictions):\n",
    "        sentiment = \"Negative\" if prediction == 1 else \"Positive\"\n",
    "        print(f\"Text: '{text}' - Sentiment: {sentiment}\")"
   ]
  },
  {
   "cell_type": "markdown",
   "id": "1a53c8a5-20a0-42cf-8ddc-e5ed14926c6c",
   "metadata": {},
   "source": [
    "# 17. Implement a Python function to calculate the Matthews correlation coefficient(MCC) for evaluating binary classifiers"
   ]
  },
  {
   "cell_type": "code",
   "execution_count": 17,
   "id": "a9a9fb55-2bb7-4f90-afd8-c2f85e95908e",
   "metadata": {},
   "outputs": [
    {
     "name": "stdout",
     "output_type": "stream",
     "text": [
      "Matthews Correlation Coefficient: -0.5\n"
     ]
    }
   ],
   "source": [
    "def matthews_correlation_coefficient(y_true, y_pred):\n",
    "    tp = np.sum((y_true == 1) & (y_pred == 1))\n",
    "    tn = np.sum((y_true == 0) & (y_pred == 0))\n",
    "    fp = np.sum((y_true == 0) & (y_pred == 1))\n",
    "    fn = np.sum((y_true == 1) & (y_pred == 0))\n",
    "\n",
    "    numerator = (tp * tn) - (fp * fn)\n",
    "    denominator = np.sqrt((tp + fp) * (tp + fn) * (tn + fp) * (tn + fn))\n",
    "    \n",
    "    return numerator / denominator if denominator != 0 else 0\n",
    "mcc = matthews_correlation_coefficient(np.array([1, 0, 1]), np.array([1, 1, 0]))\n",
    "print(\"Matthews Correlation Coefficient:\", mcc)"
   ]
  },
  {
   "cell_type": "markdown",
   "id": "913b521c-541f-4e7c-9e7b-8e6676dda96e",
   "metadata": {},
   "source": [
    "# 18.Write a Python function to perform the hierarchical clustering algorithm on a dataset, and return a dendrogram representing the clusters."
   ]
  },
  {
   "cell_type": "code",
   "execution_count": 18,
   "id": "4612a220-5382-4b34-9e98-2e1722bab1b0",
   "metadata": {},
   "outputs": [
    {
     "data": {
      "image/png": "[encoded data removed]",
      "text/plain": [
       "<Figure size 720x504 with 1 Axes>"
      ]
     },
     "metadata": {
      "needs_background": "light"
     },
     "output_type": "display_data"
    }
   ],
   "source": [
    "from scipy.cluster.hierarchy import dendrogram, linkage\n",
    "import matplotlib.pyplot as plt\n",
    "\n",
    "def hierarchical_clustering(data, method='ward'):\n",
    "    linked = linkage(data, method=method)\n",
    "    \n",
    "    plt.figure(figsize=(10, 7))\n",
    "    \n",
    "    dendrogram(linked)\n",
    "    plt.show()\n",
    "\n",
    "if __name__ == \"__main__\":\n",
    "    import numpy as np  \n",
    "    np.random.seed(42)\n",
    "    data = np.random.rand(10, 2) \n",
    "    hierarchical_clustering(data)"
   ]
  },
  {
   "cell_type": "markdown",
   "id": "721ecb2e-a76c-475d-aa2b-96b0caaa046b",
   "metadata": {},
   "source": [
    "# 19. Implement a function to generate synthetic images using a generative adversarial network (GAN). The function should use random noise as input and return generated images."
   ]
  },
  {
   "cell_type": "code",
   "execution_count": 19,
   "id": "a3051757-f00b-49e3-954e-6ae4aae79275",
   "metadata": {},
   "outputs": [
    {
     "name": "stdout",
     "output_type": "stream",
     "text": [
      "WARNING:tensorflow:From C:\\Users\\chiru c\\anaconda3\\lib\\site-packages\\keras\\src\\losses.py:2976: The name tf.losses.sparse_softmax_cross_entropy is deprecated. Please use tf.compat.v1.losses.sparse_softmax_cross_entropy instead.\n",
      "\n",
      "WARNING:tensorflow:From C:\\Users\\chiru c\\anaconda3\\lib\\site-packages\\keras\\src\\backend.py:873: The name tf.get_default_graph is deprecated. Please use tf.compat.v1.get_default_graph instead.\n",
      "\n",
      "WARNING:tensorflow:From C:\\Users\\chiru c\\anaconda3\\lib\\site-packages\\keras\\src\\optimizers\\__init__.py:309: The name tf.train.Optimizer is deprecated. Please use tf.compat.v1.train.Optimizer instead.\n",
      "\n",
      "2/2 [==============================] - 0s 5ms/step\n",
      "WARNING:tensorflow:From C:\\Users\\chiru c\\anaconda3\\lib\\site-packages\\keras\\src\\utils\\tf_utils.py:492: The name tf.ragged.RaggedTensorValue is deprecated. Please use tf.compat.v1.ragged.RaggedTensorValue instead.\n",
      "\n",
      "WARNING:tensorflow:From C:\\Users\\chiru c\\anaconda3\\lib\\site-packages\\keras\\src\\engine\\base_layer_utils.py:384: The name tf.executing_eagerly_outside_functions is deprecated. Please use tf.compat.v1.executing_eagerly_outside_functions instead.\n",
      "\n",
      "Epoch: 0, Discriminator Loss: 1.4506598711013794, Generator Loss: 0.6847235560417175\n",
      "2/2 [==============================] - 0s 4ms/step\n",
      "2/2 [==============================] - 0s 4ms/step\n",
      "2/2 [==============================] - 0s 3ms/step\n",
      "2/2 [==============================] - 0s 7ms/step\n",
      "2/2 [==============================] - 0s 4ms/step\n",
      "2/2 [==============================] - 0s 2ms/step\n",
      "2/2 [==============================] - 0s 5ms/step\n",
      "2/2 [==============================] - 0s 3ms/step\n",
      "2/2 [==============================] - 0s 0s/step\n",
      "2/2 [==============================] - 0s 4ms/step\n",
      "2/2 [==============================] - 0s 3ms/step\n",
      "2/2 [==============================] - 0s 3ms/step\n",
      "2/2 [==============================] - 0s 4ms/step\n",
      "2/2 [==============================] - 0s 7ms/step\n",
      "2/2 [==============================] - 0s 7ms/step\n",
      "2/2 [==============================] - 0s 6ms/step\n",
      "2/2 [==============================] - 0s 5ms/step\n",
      "2/2 [==============================] - 0s 0s/step\n",
      "2/2 [==============================] - 0s 2ms/step\n",
      "2/2 [==============================] - 0s 5ms/step\n",
      "2/2 [==============================] - 0s 4ms/step\n",
      "2/2 [==============================] - 0s 4ms/step\n",
      "2/2 [==============================] - 0s 7ms/step\n",
      "2/2 [==============================] - 0s 2ms/step\n",
      "2/2 [==============================] - 0s 4ms/step\n",
      "2/2 [==============================] - 0s 4ms/step\n",
      "2/2 [==============================] - 0s 6ms/step\n",
      "2/2 [==============================] - 0s 5ms/step\n",
      "2/2 [==============================] - 0s 4ms/step\n",
      "2/2 [==============================] - 0s 2ms/step\n",
      "2/2 [==============================] - 0s 2ms/step\n",
      "2/2 [==============================] - 0s 8ms/step\n",
      "2/2 [==============================] - 0s 16ms/step\n",
      "2/2 [==============================] - 0s 16ms/step\n",
      "2/2 [==============================] - 0s 5ms/step\n",
      "2/2 [==============================] - 0s 2ms/step\n",
      "2/2 [==============================] - 0s 532us/step\n",
      "2/2 [==============================] - 0s 16ms/step\n",
      "2/2 [==============================] - 0s 7ms/step\n",
      "2/2 [==============================] - 0s 16ms/step\n",
      "2/2 [==============================] - 0s 6ms/step\n",
      "2/2 [==============================] - 0s 0s/step\n",
      "2/2 [==============================] - 0s 4ms/step\n",
      "2/2 [==============================] - 0s 4ms/step\n",
      "2/2 [==============================] - 0s 16ms/step\n",
      "2/2 [==============================] - 0s 3ms/step\n",
      "2/2 [==============================] - 0s 4ms/step\n",
      "2/2 [==============================] - 0s 2ms/step\n",
      "2/2 [==============================] - 0s 5ms/step\n",
      "2/2 [==============================] - 0s 6ms/step\n",
      "2/2 [==============================] - 0s 4ms/step\n",
      "2/2 [==============================] - 0s 4ms/step\n",
      "2/2 [==============================] - 0s 3ms/step\n",
      "2/2 [==============================] - 0s 5ms/step\n",
      "2/2 [==============================] - 0s 4ms/step\n",
      "2/2 [==============================] - 0s 2ms/step\n",
      "2/2 [==============================] - 0s 0s/step\n",
      "2/2 [==============================] - 0s 0s/step\n",
      "2/2 [==============================] - 0s 7ms/step\n",
      "2/2 [==============================] - 0s 0s/step\n",
      "2/2 [==============================] - 0s 9ms/step\n",
      "2/2 [==============================] - 0s 0s/step\n",
      "2/2 [==============================] - 0s 3ms/step\n",
      "2/2 [==============================] - 0s 7ms/step\n",
      "2/2 [==============================] - 0s 8ms/step\n",
      "2/2 [==============================] - 0s 8ms/step\n",
      "2/2 [==============================] - 0s 8ms/step\n",
      "2/2 [==============================] - 0s 9ms/step\n",
      "2/2 [==============================] - 0s 5ms/step\n",
      "2/2 [==============================] - 0s 4ms/step\n",
      "2/2 [==============================] - 0s 3ms/step\n",
      "2/2 [==============================] - 0s 2ms/step\n",
      "2/2 [==============================] - 0s 6ms/step\n",
      "2/2 [==============================] - 0s 5ms/step\n",
      "2/2 [==============================] - 0s 2ms/step\n",
      "2/2 [==============================] - 0s 4ms/step\n",
      "2/2 [==============================] - 0s 3ms/step\n",
      "2/2 [==============================] - 0s 2ms/step\n",
      "2/2 [==============================] - 0s 2ms/step\n",
      "2/2 [==============================] - 0s 3ms/step\n",
      "2/2 [==============================] - 0s 2ms/step\n",
      "2/2 [==============================] - 0s 4ms/step\n",
      "2/2 [==============================] - 0s 4ms/step\n",
      "2/2 [==============================] - 0s 13ms/step\n",
      "2/2 [==============================] - 0s 5ms/step\n",
      "2/2 [==============================] - 0s 2ms/step\n",
      "2/2 [==============================] - 0s 4ms/step\n",
      "2/2 [==============================] - 0s 6ms/step\n",
      "2/2 [==============================] - 0s 0s/step\n",
      "2/2 [==============================] - 0s 4ms/step\n",
      "2/2 [==============================] - 0s 4ms/step\n",
      "2/2 [==============================] - 0s 2ms/step\n",
      "2/2 [==============================] - 0s 5ms/step\n",
      "2/2 [==============================] - 0s 3ms/step\n",
      "2/2 [==============================] - 0s 3ms/step\n",
      "2/2 [==============================] - 0s 533us/step\n",
      "2/2 [==============================] - 0s 10ms/step\n",
      "2/2 [==============================] - 0s 3ms/step\n",
      "2/2 [==============================] - 0s 2ms/step\n",
      "1/1 [==============================] - 0s 150ms/step\n"
     ]
    },
    {
     "data": {
      "image/png": "[encoded data removed]",
      "text/plain": [
       "<Figure size 720x720 with 10 Axes>"
      ]
     },
     "metadata": {
      "needs_background": "light"
     },
     "output_type": "display_data"
    }
   ],
   "source": [
    "import numpy as np\n",
    "import matplotlib.pyplot as plt\n",
    "from tensorflow import keras\n",
    "from tensorflow.keras import layers\n",
    "\n",
    "def build_generator(latent_dim):\n",
    "    model = keras.Sequential([\n",
    "        layers.Dense(128, activation='relu', input_dim=latent_dim),\n",
    "        layers.Dense(784, activation='sigmoid'),\n",
    "        layers.Reshape((28, 28))\n",
    "    ])\n",
    "    return model\n",
    "\n",
    "def build_discriminator():\n",
    "    model = keras.Sequential([\n",
    "        layers.Flatten(input_shape=(28, 28)),\n",
    "        layers.Dense(128, activation='relu'),\n",
    "        layers.Dense(1, activation='sigmoid')\n",
    "    ])\n",
    "    return model\n",
    "\n",
    "def train_gan(epochs, batch_size, latent_dim):\n",
    "    # Load and preprocess the MNIST dataset\n",
    "    (X_train, _), (_, _) = keras.datasets.mnist.load_data()\n",
    "    X_train = X_train.astype(np.float32) / 255.0\n",
    "\n",
    "    generator = build_generator(latent_dim)\n",
    "    discriminator = build_discriminator()\n",
    "\n",
    "    discriminator.compile(loss='binary_crossentropy', optimizer='adam', metrics=['accuracy'])\n",
    "\n",
    "    discriminator.trainable = False\n",
    "    gan_input = layers.Input(shape=(latent_dim,))\n",
    "    generated_image = generator(gan_input)\n",
    "    gan_output = discriminator(generated_image)\n",
    "    gan = keras.Model(gan_input, gan_output)\n",
    "    gan.compile(loss='binary_crossentropy', optimizer='adam')\n",
    "\n",
    "    for epoch in range(epochs):\n",
    "        # Train the discriminator\n",
    "        idx = np.random.randint(0, X_train.shape[0], batch_size)\n",
    "        real_images = X_train[idx]\n",
    "\n",
    "        noise = np.random.normal(0, 1, (batch_size, latent_dim))\n",
    "        generated_images = generator.predict(noise)\n",
    "\n",
    "        d_loss_real = discriminator.train_on_batch(real_images, np.ones((batch_size, 1)))\n",
    "        d_loss_fake = discriminator.train_on_batch(generated_images, np.zeros((batch_size, 1)))\n",
    "        d_loss = 0.5 * np.add(d_loss_real, d_loss_fake)\n",
    "\n",
    "        # Train the generator\n",
    "        noise = np.random.normal(0, 1, (batch_size, latent_dim))\n",
    "        g_loss = gan.train_on_batch(noise, np.ones((batch_size, 1)))\n",
    "\n",
    "        if epoch % 100 == 0:\n",
    "            print(f\"Epoch: {epoch}, Discriminator Loss: {d_loss[0]}, Generator Loss: {g_loss}\")\n",
    "\n",
    "def generate_images(generator, num_images, latent_dim):\n",
    "    noise = np.random.normal(0, 1, (num_images, latent_dim))\n",
    "    generated_images = generator.predict(noise)\n",
    "    return generated_images\n",
    "\n",
    "latent_dim = 100\n",
    "train_gan(epochs=100, batch_size=64, latent_dim=latent_dim)\n",
    "\n",
    "\n",
    "generator = build_generator(latent_dim)\n",
    "generated_images = generate_images(generator, num_images=10, latent_dim=latent_dim)\n",
    "\n",
    "\n",
    "plt.figure(figsize=(10, 10))\n",
    "for i in range(10):\n",
    "    plt.subplot(1, 10, i + 1)\n",
    "    plt.imshow(generated_images[i], cmap='gray')\n",
    "    plt.axis('off')\n",
    "plt.show()\n"
   ]
  },
  {
   "cell_type": "markdown",
   "id": "d2804217-2ded-44b9-aac8-1d28e3a051f6",
   "metadata": {},
   "source": [
    "# 20.Write a Python function to perform time series forecasting using an ARIMA (Auto Regressive Integrated Moving Average) model, given a sequence of historical data."
   ]
  },
  {
   "cell_type": "code",
   "execution_count": 20,
   "id": "87abf332-b21b-4419-8adf-fe0fd96236dd",
   "metadata": {},
   "outputs": [
    {
     "name": "stdout",
     "output_type": "stream",
     "text": [
      "Forecasted Values: [-10.70685826 -10.64720235 -10.5799947  -10.56794156 -10.60897495\n",
      " -10.68015899 -10.66897871 -10.65265333 -10.6480047  -10.65481034]\n"
     ]
    },
    {
     "data": {
      "image/png": "[encoded data removed]",
      "text/plain": [
       "<Figure size 720x432 with 1 Axes>"
      ]
     },
     "metadata": {
      "needs_background": "light"
     },
     "output_type": "display_data"
    }
   ],
   "source": [
    "import numpy as np\n",
    "import matplotlib.pyplot as plt\n",
    "from statsmodels.tsa.arima.model import ARIMA\n",
    "from sklearn.metrics import mean_squared_error\n",
    "\n",
    "def arima_forecasting(data, order, steps=1):\n",
    "    model = ARIMA(data, order=order)\n",
    "    model_fit = model.fit()\n",
    "    \n",
    "    forecast = model_fit.forecast(steps=steps)\n",
    "    \n",
    "    return forecast, model_fit\n",
    "\n",
    "if __name__ == \"__main__\":\n",
    "    np.random.seed(42)\n",
    "    time_series_data = np.cumsum(np.random.randn(100)) \n",
    "\n",
    "    order = (5, 1, 0)\n",
    "\n",
    "    forecasted_values, model_fit = arima_forecasting(time_series_data, order=order, steps=10)\n",
    "\n",
    "    print(\"Forecasted Values:\", forecasted_values)\n",
    "\n",
    "    plt.figure(figsize=(10, 6))\n",
    "    plt.plot(time_series_data, label='Original Data')\n",
    "    plt.plot(np.arange(len(time_series_data), len(time_series_data) + len(forecasted_values)), \n",
    "             forecasted_values, label='Forecasted Values', color='red')\n",
    "    plt.legend()\n",
    "    plt.show()"
   ]
  },
  {
   "cell_type": "code",
   "execution_count": null,
   "id": "7e2d3172",
   "metadata": {},
   "outputs": [],
   "source": []
  }
 ],
 "metadata": {
  "kernelspec": {
   "display_name": "Python 3 (ipykernel)",
   "language": "python",
   "name": "python3"
  },
  "language_info": {
   "codemirror_mode": {
    "name": "ipython",
    "version": 3
   },
   "file_extension": ".py",
   "mimetype": "text/x-python",
   "name": "python",
   "nbconvert_exporter": "python",
   "pygments_lexer": "ipython3",
   "version": "3.9.12"
  }
 },
 "nbformat": 4,
 "nbformat_minor": 5
}
